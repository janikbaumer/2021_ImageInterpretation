{
 "cells": [
  {
   "cell_type": "code",
   "execution_count": 1,
   "id": "2662cb94",
   "metadata": {},
   "outputs": [],
   "source": [
    "import numpy as np\n",
    "import math\n",
    "import matplotlib.pyplot as plt"
   ]
  },
  {
   "cell_type": "code",
   "execution_count": 2,
   "id": "75312391",
   "metadata": {},
   "outputs": [],
   "source": [
    "#A function to convert time in seconds to hh:mm:ss\n",
    "def convert(inputtime): #Input time in seconds\n",
    "    time = np.round(inputtime) #Round to nearest second\n",
    "    h = np.floor(time/3600)\n",
    "    hrem = (time/3600) - h\n",
    "    m = np.floor(hrem*60)\n",
    "    mrem = (hrem*60) - m\n",
    "    s = mrem*60 \n",
    "    return round(h), round(m), round(s) #Return integer values"
   ]
  },
  {
   "cell_type": "code",
   "execution_count": 3,
   "id": "1a9da0ea",
   "metadata": {},
   "outputs": [],
   "source": [
    "#A function to analyze results and print important information\n",
    "def analyze(ttime, vtime, precision, recall, f1, accuracy):\n",
    "    \n",
    "    ttimehms = convert(ttime)\n",
    "    print('Training time:')\n",
    "    print(ttimehms)\n",
    "    \n",
    "    vtimehms = convert(vtime)\n",
    "    print('Validation time:')\n",
    "    print(vtimehms)\n",
    "    \n",
    "    print('Overall precision:')\n",
    "    print(\"{:.4f}\".format(precision));\n",
    "\n",
    "    print('Overall recall:')\n",
    "    print(\"{:.4f}\".format(recall));\n",
    "    \n",
    "    print('Overall f1:')\n",
    "    print(\"{:.4f}\".format(f1));\n",
    "    \n",
    "    print('Overall accuracy:')\n",
    "    print(\"{:.4f}\".format(accuracy));\n",
    "    \n",
    "    return"
   ]
  },
  {
   "cell_type": "code",
   "execution_count": 4,
   "id": "f0ff74c9",
   "metadata": {},
   "outputs": [
    {
     "name": "stdout",
     "output_type": "stream",
     "text": [
      "Training time:\n",
      "(2, 36, 59)\n",
      "Validation time:\n",
      "(0, 14, 50)\n",
      "Overall precision:\n",
      "0.6134\n",
      "Overall recall:\n",
      "0.4567\n",
      "Overall f1:\n",
      "0.4524\n",
      "Overall accuracy:\n",
      "0.8076\n"
     ]
    }
   ],
   "source": [
    "#Model 1\n",
    "ttime1 = 9418.636725187302\n",
    "vtime1 = np.loadtxt(\"./Lab 3 Results/model_RNN_nlayers_1_templength_18_time_val.txt\")\n",
    "precision1 = np.mean(np.loadtxt(\"./Lab 3 Results/model_RNN_nlayers_1_templength_18_precisions.txt\"))\n",
    "recall1 = np.mean(np.loadtxt(\"./Lab 3 Results/model_RNN_nlayers_1_templength_18_recalls.txt\"))\n",
    "f11 = np.mean(np.loadtxt(\"./Lab 3 Results/model_RNN_nlayers_1_templength_18_f1.txt\"))\n",
    "accuracy1 = np.mean(np.loadtxt(\"./Lab 3 Results/model_RNN_nlayers_1_templength_18_accuracies.txt\"))\n",
    "analyze(ttime1, vtime1, precision1, recall1, f11, accuracy1)"
   ]
  },
  {
   "cell_type": "code",
   "execution_count": 5,
   "id": "37fe0b54",
   "metadata": {},
   "outputs": [
    {
     "name": "stdout",
     "output_type": "stream",
     "text": [
      "Training time:\n",
      "(3, 33, 49)\n",
      "Validation time:\n",
      "(0, 17, 2)\n",
      "Overall precision:\n",
      "0.6036\n",
      "Overall recall:\n",
      "0.5811\n",
      "Overall f1:\n",
      "0.5654\n",
      "Overall accuracy:\n",
      "0.8348\n"
     ]
    }
   ],
   "source": [
    "#Model 2\n",
    "ttime2 = 12828.960642576218\n",
    "vtime2 = np.loadtxt(\"./Lab 3 Results/model_RNN_nlayers_1_templength_71_time_val.txt\")\n",
    "precision2 = np.mean(np.loadtxt(\"./Lab 3 Results/model_RNN_nlayers_1_templength_71_precisions.txt\"))\n",
    "recall2 = np.mean(np.loadtxt(\"./Lab 3 Results/model_RNN_nlayers_1_templength_71_recalls.txt\"))\n",
    "f12 = np.mean(np.loadtxt(\"./Lab 3 Results/model_RNN_nlayers_1_templength_71_f1.txt\"))\n",
    "accuracy2 = np.mean(np.loadtxt(\"./Lab 3 Results/model_RNN_nlayers_1_templength_71_accuracies.txt\"))\n",
    "analyze(ttime2, vtime2, precision2, recall2, f12, accuracy2)"
   ]
  },
  {
   "cell_type": "code",
   "execution_count": 6,
   "id": "f70055ac",
   "metadata": {},
   "outputs": [
    {
     "name": "stdout",
     "output_type": "stream",
     "text": [
      "Training time:\n",
      "(5, 13, 36)\n",
      "Validation time:\n",
      "(0, 20, 9)\n",
      "Overall precision:\n",
      "0.3006\n",
      "Overall recall:\n",
      "0.2545\n",
      "Overall f1:\n",
      "0.2326\n",
      "Overall accuracy:\n",
      "0.7622\n"
     ]
    }
   ],
   "source": [
    "#Model 3\n",
    "ttime3 = 18815.515563726425\n",
    "vtime3 = np.loadtxt(\"./Lab 3 Results/model_RNN_nlayers_2_templength_71_time_val.txt\")\n",
    "precision3 = np.mean(np.loadtxt(\"./Lab 3 Results/model_RNN_nlayers_2_templength_71_precisions.txt\"))\n",
    "recall3 = np.mean(np.loadtxt(\"./Lab 3 Results/model_RNN_nlayers_2_templength_71_recalls.txt\"))\n",
    "f13 = np.mean(np.loadtxt(\"./Lab 3 Results/model_RNN_nlayers_2_templength_71_f1.txt\"))\n",
    "accuracy3 = np.mean(np.loadtxt(\"./Lab 3 Results/model_RNN_nlayers_2_templength_71_accuracies.txt\"))\n",
    "analyze(ttime3, vtime3, precision3, recall3, f13, accuracy3)"
   ]
  },
  {
   "cell_type": "code",
   "execution_count": 7,
   "id": "6aafbd48",
   "metadata": {},
   "outputs": [
    {
     "name": "stdout",
     "output_type": "stream",
     "text": [
      "Training time:\n",
      "(3, 53, 29)\n",
      "Validation time:\n",
      "(0, 17, 39)\n",
      "Overall precision:\n",
      "0.6631\n",
      "Overall recall:\n",
      "0.5140\n",
      "Overall f1:\n",
      "0.5279\n",
      "Overall accuracy:\n",
      "0.8199\n"
     ]
    }
   ],
   "source": [
    "#Model 4\n",
    "ttime4 = 14009.227115392685\n",
    "vtime4 = np.loadtxt(\"./Lab 3 Results/model_LSTM_nlayers_1_templength_18_time_val.txt\")\n",
    "precision4 = np.mean(np.loadtxt(\"./Lab 3 Results/model_LSTM_nlayers_1_templength_18_precisions.txt\"))\n",
    "recall4 = np.mean(np.loadtxt(\"./Lab 3 Results/model_LSTM_nlayers_1_templength_18_recalls.txt\"))\n",
    "f14 = np.mean(np.loadtxt(\"./Lab 3 Results/model_LSTM_nlayers_1_templength_18_f1.txt\"))\n",
    "accuracy4 = np.mean(np.loadtxt(\"./Lab 3 Results/model_LSTM_nlayers_1_templength_18_accuracies.txt\"))\n",
    "analyze(ttime4, vtime4, precision4, recall4, f14, accuracy4)"
   ]
  },
  {
   "cell_type": "code",
   "execution_count": 8,
   "id": "9f29587a",
   "metadata": {},
   "outputs": [
    {
     "name": "stdout",
     "output_type": "stream",
     "text": [
      "Training time:\n",
      "(8, 25, 20)\n",
      "Validation time:\n",
      "(0, 28, 5)\n",
      "Overall precision:\n",
      "0.6796\n",
      "Overall recall:\n",
      "0.5971\n",
      "Overall f1:\n",
      "0.5874\n",
      "Overall accuracy:\n",
      "0.8390\n"
     ]
    }
   ],
   "source": [
    "#Model 5\n",
    "ttime5 = 30320.117418050766\n",
    "vtime5 = np.loadtxt(\"./Lab 3 Results/model_LSTM_nlayers_1_templength_71_time_val.txt\")\n",
    "precision5 = np.mean(np.loadtxt(\"./Lab 3 Results/model_LSTM_nlayers_1_templength_71_precisions.txt\"))\n",
    "recall5 = np.mean(np.loadtxt(\"./Lab 3 Results/model_LSTM_nlayers_1_templength_71_recalls.txt\"))\n",
    "f15 = np.mean(np.loadtxt(\"./Lab 3 Results/model_LSTM_nlayers_1_templength_71_f1.txt\"))\n",
    "accuracy5 = np.mean(np.loadtxt(\"./Lab 3 Results/model_LSTM_nlayers_1_templength_71_accuracies.txt\"))\n",
    "analyze(ttime5, vtime5, precision5, recall5, f15, accuracy5)"
   ]
  },
  {
   "cell_type": "code",
   "execution_count": 9,
   "id": "898f9db0",
   "metadata": {},
   "outputs": [
    {
     "name": "stdout",
     "output_type": "stream",
     "text": [
      "Training time:\n",
      "(13, 30, 0)\n",
      "Validation time:\n",
      "(0, 42, 20)\n",
      "Overall precision:\n",
      "0.7403\n",
      "Overall recall:\n",
      "0.6011\n",
      "Overall f1:\n",
      "0.5851\n",
      "Overall accuracy:\n",
      "0.8395\n"
     ]
    }
   ],
   "source": [
    "#Model 6\n",
    "ttime6 = 48600\n",
    "vtime6 = np.loadtxt(\"./Lab 3 Results/model_LSTM_nlayers_2_templength_71_time_val.txt\")\n",
    "precision6 = np.mean(np.loadtxt(\"./Lab 3 Results/model_LSTM_nlayers_2_templength_71_precisions.txt\"))\n",
    "recall6 = np.mean(np.loadtxt(\"./Lab 3 Results/model_LSTM_nlayers_2_templength_71_recalls.txt\"))\n",
    "f16 = np.mean(np.loadtxt(\"./Lab 3 Results/model_LSTM_nlayers_2_templength_71_f1.txt\"))\n",
    "accuracy6 = np.mean(np.loadtxt(\"./Lab 3 Results/model_LSTM_nlayers_2_templength_71_accuracies.txt\"))\n",
    "analyze(ttime6, vtime6, precision6, recall6, f16, accuracy6)"
   ]
  },
  {
   "cell_type": "code",
   "execution_count": 10,
   "id": "6c36a270",
   "metadata": {},
   "outputs": [
    {
     "name": "stdout",
     "output_type": "stream",
     "text": [
      "Training time:\n",
      "(3, 36, 6)\n",
      "Validation time:\n",
      "(0, 16, 56)\n",
      "Overall precision:\n",
      "0.5714\n",
      "Overall recall:\n",
      "0.4876\n",
      "Overall f1:\n",
      "0.4996\n",
      "Overall accuracy:\n",
      "0.8158\n"
     ]
    }
   ],
   "source": [
    "#Model 7\n",
    "ttime7 = 12966.058840751648\n",
    "vtime7 = np.loadtxt(\"./Lab 3 Results/model_GRU_nlayers_1_templength_18_time_val.txt\")\n",
    "precision7 = np.mean(np.loadtxt(\"./Lab 3 Results/model_GRU_nlayers_1_templength_18_precisions.txt\"))\n",
    "recall7 = np.mean(np.loadtxt(\"./Lab 3 Results/model_GRU_nlayers_1_templength_18_recalls.txt\"))\n",
    "f17 = np.mean(np.loadtxt(\"./Lab 3 Results/model_GRU_nlayers_1_templength_18_f1.txt\"))\n",
    "accuracy7 = np.mean(np.loadtxt(\"./Lab 3 Results/model_GRU_nlayers_1_templength_18_accuracies.txt\"))\n",
    "analyze(ttime7, vtime7, precision7, recall7, f17, accuracy7)"
   ]
  },
  {
   "cell_type": "code",
   "execution_count": 11,
   "id": "f7d6f8e3",
   "metadata": {},
   "outputs": [
    {
     "name": "stdout",
     "output_type": "stream",
     "text": [
      "Training time:\n",
      "(6, 56, 42)\n",
      "Validation time:\n",
      "(0, 25, 12)\n",
      "Overall precision:\n",
      "0.7072\n",
      "Overall recall:\n",
      "0.6309\n",
      "Overall f1:\n",
      "0.6262\n",
      "Overall accuracy:\n",
      "0.8423\n"
     ]
    }
   ],
   "source": [
    "#Model 8\n",
    "ttime8 = 25001.75649809837\n",
    "vtime8 = np.loadtxt(\"./Lab 3 Results/model_GRU_nlayers_1_templength_71_time_val.txt\")\n",
    "precision8 = np.mean(np.loadtxt(\"./Lab 3 Results/model_GRU_nlayers_1_templength_71_precisions.txt\"))\n",
    "recall8 = np.mean(np.loadtxt(\"./Lab 3 Results/model_GRU_nlayers_1_templength_71_recalls.txt\"))\n",
    "f18 = np.mean(np.loadtxt(\"./Lab 3 Results/model_GRU_nlayers_1_templength_71_f1.txt\"))\n",
    "accuracy8 = np.mean(np.loadtxt(\"./Lab 3 Results/model_GRU_nlayers_1_templength_71_accuracies.txt\"))\n",
    "analyze(ttime8, vtime8, precision8, recall8, f18, accuracy8)"
   ]
  },
  {
   "cell_type": "code",
   "execution_count": 12,
   "id": "e126c649",
   "metadata": {},
   "outputs": [
    {
     "name": "stdout",
     "output_type": "stream",
     "text": [
      "Training time:\n",
      "(11, 41, 24)\n",
      "Validation time:\n",
      "(0, 37, 0)\n",
      "Overall precision:\n",
      "0.7214\n",
      "Overall recall:\n",
      "0.6495\n",
      "Overall f1:\n",
      "0.6486\n",
      "Overall accuracy:\n",
      "0.8425\n"
     ]
    }
   ],
   "source": [
    "#Model 9\n",
    "ttime9 = 42083.739312171936\n",
    "vtime9 = np.loadtxt(\"./Lab 3 Results/model_GRU_nlayers_2_templength_71_time_val.txt\")\n",
    "precision9 = np.mean(np.loadtxt(\"./Lab 3 Results/model_GRU_nlayers_2_templength_71_precisions.txt\"))\n",
    "recall9 = np.mean(np.loadtxt(\"./Lab 3 Results/model_GRU_nlayers_2_templength_71_recalls.txt\"))\n",
    "f19 = np.mean(np.loadtxt(\"./Lab 3 Results/model_GRU_nlayers_2_templength_71_f1.txt\"))\n",
    "accuracy9 = np.mean(np.loadtxt(\"./Lab 3 Results/model_GRU_nlayers_2_templength_71_accuracies.txt\"))\n",
    "analyze(ttime9, vtime9, precision9, recall9, f19, accuracy9)"
   ]
  },
  {
   "cell_type": "code",
   "execution_count": null,
   "id": "dfeb5d67",
   "metadata": {},
   "outputs": [],
   "source": []
  }
 ],
 "metadata": {
  "kernelspec": {
   "display_name": "Python 3 (ipykernel)",
   "language": "python",
   "name": "python3"
  },
  "language_info": {
   "codemirror_mode": {
    "name": "ipython",
    "version": 3
   },
   "file_extension": ".py",
   "mimetype": "text/x-python",
   "name": "python",
   "nbconvert_exporter": "python",
   "pygments_lexer": "ipython3",
   "version": "3.8.12"
  }
 },
 "nbformat": 4,
 "nbformat_minor": 5
}
